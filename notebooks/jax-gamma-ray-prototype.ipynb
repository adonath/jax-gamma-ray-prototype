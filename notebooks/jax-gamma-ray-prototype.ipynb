{
 "cells": [
  {
   "cell_type": "code",
   "execution_count": 1,
   "metadata": {},
   "outputs": [],
   "source": [
    "import numpy as np\n",
    "\n",
    "import jax\n",
    "from jax import numpy as jnp\n",
    "from jax import tree_util as jtu\n",
    "from jax_models import PowerLaw, PointSource, FluxModel, NormModel, FLUX_FACTOR\n",
    "from jax_loss import CashFitStatistic, FitStatistics\n",
    "\n",
    "from gammapy.datasets import MapDataset, Datasets\n",
    "from gammapy.modeling.models import PowerLawSpectralModel, PointSpatialModel, FoVBackgroundModel\n",
    "from gammapy.modeling.models import SkyModel as GPSkyModel\n",
    "from gammapy.modeling import Fit\n",
    "from gammapy.maps import Map\n",
    "\n",
    "from iminuit import Minuit\n",
    "\n",
    "jax.config.update(\"jax_enable_x64\", True)\n"
   ]
  },
  {
   "cell_type": "code",
   "execution_count": 2,
   "metadata": {},
   "outputs": [],
   "source": [
    "dataset = MapDataset.read(\"../data/test-dataset-0.fits\")"
   ]
  },
  {
   "cell_type": "code",
   "execution_count": 3,
   "metadata": {},
   "outputs": [],
   "source": [
    "point = PointSpatialModel(frame=\"galactic\")\n",
    "spectral = PowerLawSpectralModel(amplitude=\"1e-10 cm-2 s-1 TeV-1\")\n",
    "dataset.models = [GPSkyModel(spatial_model=point, spectral_model=spectral, name=\"gc\"), FoVBackgroundModel(dataset_name=dataset.name)]"
   ]
  },
  {
   "cell_type": "code",
   "execution_count": 4,
   "metadata": {},
   "outputs": [],
   "source": [
    "datasets = Datasets()\n",
    "\n",
    "for idx in range(5):\n",
    "    dataset.fake()\n",
    "    datasets.append(dataset.copy(name=f\"dataset-{idx}\"))\n",
    "\n",
    "datasets.models = dataset.models"
   ]
  },
  {
   "cell_type": "code",
   "execution_count": 5,
   "metadata": {},
   "outputs": [],
   "source": [
    "stat_sum_gp = datasets.stat_sum()"
   ]
  },
  {
   "cell_type": "code",
   "execution_count": 6,
   "metadata": {},
   "outputs": [],
   "source": [
    "point.lon_0.value = 0.1\n",
    "\n",
    "def gp_stat():\n",
    "    # Trigger the recomputation of the model\n",
    "    point.lon_0.value *= -1. \n",
    "    return datasets.stat_sum()"
   ]
  },
  {
   "cell_type": "code",
   "execution_count": 7,
   "metadata": {},
   "outputs": [
    {
     "name": "stdout",
     "output_type": "stream",
     "text": [
      "3.69 s ± 375 ms per loop (mean ± std. dev. of 7 runs, 1 loop each)\n"
     ]
    }
   ],
   "source": [
    "%%timeit\n",
    "gp_stat()"
   ]
  },
  {
   "cell_type": "code",
   "execution_count": 8,
   "metadata": {},
   "outputs": [],
   "source": [
    "point.lon_0.value = 0"
   ]
  },
  {
   "cell_type": "code",
   "execution_count": 34,
   "metadata": {},
   "outputs": [],
   "source": [
    "point = PointSource()\n",
    "point.x_0.value = jnp.array(499.5)\n",
    "point.y_0.value = jnp.array(499.5)\n",
    "\n",
    "source_jax = FluxModel(spectral=PowerLaw(), spatial=point)\n",
    "source_jax.amplitude.value = jnp.array(1e-6) / FLUX_FACTOR\n",
    "bkg_jax = NormModel()\n",
    "bkg_jax.spectral.index.value = jnp.array(0.)"
   ]
  },
  {
   "cell_type": "code",
   "execution_count": 35,
   "metadata": {},
   "outputs": [],
   "source": [
    "stats_jax = {}\n",
    "\n",
    "for dataset in datasets:\n",
    "    stats_jax[dataset.name] = CashFitStatistic.from_gp_dataset(\n",
    "        models=[source_jax, bkg_jax], dataset=dataset)\n",
    "    \n",
    "\n",
    "stat_all = FitStatistics(stats_jax)"
   ]
  },
  {
   "cell_type": "code",
   "execution_count": 11,
   "metadata": {},
   "outputs": [],
   "source": [
    "stat_all_sum_jax = jax.jit(stat_all.__call__)"
   ]
  },
  {
   "cell_type": "code",
   "execution_count": 12,
   "metadata": {},
   "outputs": [
    {
     "name": "stdout",
     "output_type": "stream",
     "text": [
      "557 ms ± 24.7 ms per loop (mean ± std. dev. of 7 runs, 1 loop each)\n"
     ]
    }
   ],
   "source": [
    "%%timeit\n",
    "stat_all_sum_jax()"
   ]
  },
  {
   "cell_type": "code",
   "execution_count": 13,
   "metadata": {},
   "outputs": [],
   "source": [
    "stat_sum_jax = stat_all_sum_jax()"
   ]
  },
  {
   "cell_type": "code",
   "execution_count": 14,
   "metadata": {},
   "outputs": [
    {
     "data": {
      "text/plain": [
       "Array(16837.67517882, dtype=float64)"
      ]
     },
     "execution_count": 14,
     "metadata": {},
     "output_type": "execute_result"
    }
   ],
   "source": [
    "stat_all.fit_statistics[\"dataset-0\"].npred_models.models[\"model_0\"].npred().sum()"
   ]
  },
  {
   "cell_type": "code",
   "execution_count": 15,
   "metadata": {},
   "outputs": [
    {
     "data": {
      "text/plain": [
       "16843.219967856094"
      ]
     },
     "execution_count": 15,
     "metadata": {},
     "output_type": "execute_result"
    }
   ],
   "source": [
    "datasets[0].npred_signal().data.sum()"
   ]
  },
  {
   "cell_type": "code",
   "execution_count": 18,
   "metadata": {},
   "outputs": [],
   "source": [
    "assert jnp.allclose(stat_sum_jax, stat_sum_gp)"
   ]
  },
  {
   "cell_type": "code",
   "execution_count": 19,
   "metadata": {},
   "outputs": [
    {
     "ename": "NameError",
     "evalue": "name 'stat_jax' is not defined",
     "output_type": "error",
     "traceback": [
      "\u001b[0;31m---------------------------------------------------------------------------\u001b[0m",
      "\u001b[0;31mNameError\u001b[0m                                 Traceback (most recent call last)",
      "Cell \u001b[0;32mIn[19], line 2\u001b[0m\n\u001b[1;32m      1\u001b[0m npred_gp \u001b[38;5;241m=\u001b[39m dataset\u001b[38;5;241m.\u001b[39mnpred()\n\u001b[0;32m----> 2\u001b[0m npred_jax \u001b[38;5;241m=\u001b[39m \u001b[43mstat_jax\u001b[49m\u001b[38;5;241m.\u001b[39mnpred_models\u001b[38;5;241m.\u001b[39mnpred()\n",
      "\u001b[0;31mNameError\u001b[0m: name 'stat_jax' is not defined"
     ]
    }
   ],
   "source": [
    "npred_gp = dataset.npred()\n",
    "npred_jax = stat_jax.npred_models.npred()"
   ]
  },
  {
   "cell_type": "code",
   "execution_count": 15,
   "metadata": {},
   "outputs": [
    {
     "ename": "NameError",
     "evalue": "name 'npred_jax' is not defined",
     "output_type": "error",
     "traceback": [
      "\u001b[0;31m---------------------------------------------------------------------------\u001b[0m",
      "\u001b[0;31mNameError\u001b[0m                                 Traceback (most recent call last)",
      "Cell \u001b[0;32mIn[15], line 1\u001b[0m\n\u001b[0;32m----> 1\u001b[0m npred_jax_map \u001b[38;5;241m=\u001b[39m Map\u001b[38;5;241m.\u001b[39mfrom_geom(dataset\u001b[38;5;241m.\u001b[39mcounts\u001b[38;5;241m.\u001b[39mgeom, data\u001b[38;5;241m=\u001b[39m\u001b[43mnpred_jax\u001b[49m)\n",
      "\u001b[0;31mNameError\u001b[0m: name 'npred_jax' is not defined"
     ]
    }
   ],
   "source": [
    "npred_jax_map = Map.from_geom(dataset.counts.geom, data=npred_jax)"
   ]
  },
  {
   "cell_type": "code",
   "execution_count": 16,
   "metadata": {},
   "outputs": [
    {
     "ename": "NameError",
     "evalue": "name 'npred_jax' is not defined",
     "output_type": "error",
     "traceback": [
      "\u001b[0;31m---------------------------------------------------------------------------\u001b[0m",
      "\u001b[0;31mNameError\u001b[0m                                 Traceback (most recent call last)",
      "Cell \u001b[0;32mIn[16], line 1\u001b[0m\n\u001b[0;32m----> 1\u001b[0m \u001b[38;5;28;01massert\u001b[39;00m jnp\u001b[38;5;241m.\u001b[39mallclose(\u001b[43mnpred_jax\u001b[49m, npred_gp\u001b[38;5;241m.\u001b[39mdata, atol\u001b[38;5;241m=\u001b[39m\u001b[38;5;241m1e-2\u001b[39m)\n",
      "\u001b[0;31mNameError\u001b[0m: name 'npred_jax' is not defined"
     ]
    }
   ],
   "source": [
    "assert jnp.allclose(npred_jax, npred_gp.data, atol=1e-2)"
   ]
  },
  {
   "cell_type": "code",
   "execution_count": 20,
   "metadata": {},
   "outputs": [
    {
     "data": {
      "text/plain": [
       "PowerLaw(index=Parameter(value=Array(0., dtype=float32, weak_type=True), unit='', frozen=False), reference=Parameter(value=Array(1., dtype=float32, weak_type=True), unit='TeV', frozen=True))"
      ]
     },
     "execution_count": 20,
     "metadata": {},
     "output_type": "execute_result"
    }
   ],
   "source": [
    "stat_all.fit_statistics[\"dataset-0\"].npred_models.models[\"model_1\"].model.spectral"
   ]
  },
  {
   "cell_type": "code",
   "execution_count": 17,
   "metadata": {},
   "outputs": [],
   "source": [
    "p1 = stat_all.fit_statistics[\"dataset-0\"].npred_models.models[\"model_0\"].model.amplitude.value"
   ]
  },
  {
   "cell_type": "code",
   "execution_count": 18,
   "metadata": {},
   "outputs": [],
   "source": [
    "p2 = stat_all.fit_statistics[\"dataset-4\"].npred_models.models[\"model_0\"].model.amplitude.value\n"
   ]
  },
  {
   "cell_type": "code",
   "execution_count": 19,
   "metadata": {},
   "outputs": [
    {
     "data": {
      "text/plain": [
       "True"
      ]
     },
     "execution_count": 19,
     "metadata": {},
     "output_type": "execute_result"
    }
   ],
   "source": [
    "p1 is p2"
   ]
  },
  {
   "cell_type": "code",
   "execution_count": 37,
   "metadata": {},
   "outputs": [],
   "source": [
    "def prepare_parameters_iminuit(tree):\n",
    "    \"\"\"Prepare parameters for iminuit\"\"\"\n",
    "    values, treedef = jtu.tree_flatten_with_path(tree)\n",
    "\n",
    "    ids, id_map, name_map = [], {}, {}\n",
    "\n",
    "    for (path, value) in values:\n",
    "        id_key = id(value)\n",
    "        ids.append(id_key)\n",
    "        id_map.setdefault(id_key, value)\n",
    "        name_map.setdefault(id_key, jtu.keystr(path[:-1]))\n",
    "\n",
    "    unique_ids = list(id_map)\n",
    "    idxs = np.array([unique_ids.index(id_) for id_ in ids])\n",
    "    return list(id_map.values()), list(name_map.values()), treedef, idxs\n",
    "\n",
    "\n",
    "x0, names, treedef, idxs = prepare_parameters_iminuit(stat_all)\n",
    "\n",
    "def loss_minuit(x):\n",
    "    values = [jnp.array(_) for _ in x[idxs]]\n",
    "    stat_jax = treedef.unflatten(values)\n",
    "    return stat_jax()\n"
   ]
  },
  {
   "cell_type": "code",
   "execution_count": 22,
   "metadata": {},
   "outputs": [],
   "source": [
    "minuit = Minuit(jax.jit(loss_minuit), np.array(x0), name=names, grad=jax.jit(jax.grad(loss_minuit)))\n",
    "\n",
    "# Use same defaults as Gammapy\n",
    "minuit.tol = 0.1\n",
    "minuit.strategy = 1\n",
    "\n",
    "minuit.fixed[\".fit_statistics['dataset-0'].npred_models.models['model_0'].model.spectral.reference\"] = True\n",
    "minuit.fixed[\".fit_statistics['dataset-0'].npred_models.models['model_1'].model.spectral.reference\"] = True\n",
    "minuit.fixed[\".fit_statistics['dataset-0'].npred_models.models['model_1'].model.spectral.index\"] = True"
   ]
  },
  {
   "cell_type": "code",
   "execution_count": 23,
   "metadata": {},
   "outputs": [
    {
     "data": {
      "text/html": [
       "<table>\n",
       "    <tr>\n",
       "        <th colspan=\"2\" style=\"text-align:center\" title=\"Minimizer\"> Migrad </th>\n",
       "    </tr>\n",
       "    <tr>\n",
       "        <td style=\"text-align:left\" title=\"Minimum value of function\"> FCN = 1.223e+07 </td>\n",
       "        <td style=\"text-align:center\" title=\"Total number of function and (optional) gradient evaluations\"> Nfcn = 76, Ngrad = 3 </td>\n",
       "    </tr>\n",
       "    <tr>\n",
       "        <td style=\"text-align:left\" title=\"Estimated distance to minimum and goal\"> EDM = 4.71e-05 (Goal: 0.0002) </td>\n",
       "        <td style=\"text-align:center\" title=\"Total run time of algorithms\"> time = 93.7 sec </td>\n",
       "    </tr>\n",
       "    <tr>\n",
       "        <td style=\"text-align:center;background-color:#92CCA6;color:black\"> Valid Minimum </td>\n",
       "        <td style=\"text-align:center;background-color:#92CCA6;color:black\"> Below EDM threshold (goal x 10) </td>\n",
       "    </tr>\n",
       "    <tr>\n",
       "        <td style=\"text-align:center;background-color:#92CCA6;color:black\"> No parameters at limit </td>\n",
       "        <td style=\"text-align:center;background-color:#92CCA6;color:black\"> Below call limit </td>\n",
       "    </tr>\n",
       "    <tr>\n",
       "        <td style=\"text-align:center;background-color:#92CCA6;color:black\"> Hesse ok </td>\n",
       "        <td style=\"text-align:center;background-color:#92CCA6;color:black\"> Covariance accurate </td>\n",
       "    </tr>\n",
       "</table><table>\n",
       "    <tr>\n",
       "        <td></td>\n",
       "        <th title=\"Variable name\"> Name </th>\n",
       "        <th title=\"Value of parameter\"> Value </th>\n",
       "        <th title=\"Hesse error\"> Hesse Error </th>\n",
       "        <th title=\"Minos lower error\"> Minos Error- </th>\n",
       "        <th title=\"Minos upper error\"> Minos Error+ </th>\n",
       "        <th title=\"Lower limit of the parameter\"> Limit- </th>\n",
       "        <th title=\"Upper limit of the parameter\"> Limit+ </th>\n",
       "        <th title=\"Is the parameter fixed in the fit\"> Fixed </th>\n",
       "    </tr>\n",
       "    <tr>\n",
       "        <th> 0 </th>\n",
       "        <td> .fit_statistics['dataset-0'].npred_models.models['model_0'].model.amplitude </td>\n",
       "        <td> 1.004 </td>\n",
       "        <td> 0.004 </td>\n",
       "        <td>  </td>\n",
       "        <td>  </td>\n",
       "        <td>  </td>\n",
       "        <td>  </td>\n",
       "        <td>  </td>\n",
       "    </tr>\n",
       "    <tr>\n",
       "        <th> 1 </th>\n",
       "        <td> .fit_statistics['dataset-0'].npred_models.models['model_0'].model.spectral.index </td>\n",
       "        <td> 1.9994 </td>\n",
       "        <td> 0.0022 </td>\n",
       "        <td>  </td>\n",
       "        <td>  </td>\n",
       "        <td>  </td>\n",
       "        <td>  </td>\n",
       "        <td>  </td>\n",
       "    </tr>\n",
       "    <tr>\n",
       "        <th> 2 </th>\n",
       "        <td> .fit_statistics['dataset-0'].npred_models.models['model_0'].model.spectral.reference </td>\n",
       "        <td> 1.00 </td>\n",
       "        <td> 0.01 </td>\n",
       "        <td>  </td>\n",
       "        <td>  </td>\n",
       "        <td>  </td>\n",
       "        <td>  </td>\n",
       "        <td> yes </td>\n",
       "    </tr>\n",
       "    <tr>\n",
       "        <th> 3 </th>\n",
       "        <td> .fit_statistics['dataset-0'].npred_models.models['model_0'].model.spatial.x_0 </td>\n",
       "        <td> 499.494 </td>\n",
       "        <td> 0.015 </td>\n",
       "        <td>  </td>\n",
       "        <td>  </td>\n",
       "        <td>  </td>\n",
       "        <td>  </td>\n",
       "        <td>  </td>\n",
       "    </tr>\n",
       "    <tr>\n",
       "        <th> 4 </th>\n",
       "        <td> .fit_statistics['dataset-0'].npred_models.models['model_0'].model.spatial.y_0 </td>\n",
       "        <td> 499.515 </td>\n",
       "        <td> 0.015 </td>\n",
       "        <td>  </td>\n",
       "        <td>  </td>\n",
       "        <td>  </td>\n",
       "        <td>  </td>\n",
       "        <td>  </td>\n",
       "    </tr>\n",
       "    <tr>\n",
       "        <th> 5 </th>\n",
       "        <td> .fit_statistics['dataset-0'].npred_models.models['model_1'].model.spectral.index </td>\n",
       "        <td> 0.0 </td>\n",
       "        <td> 0.1 </td>\n",
       "        <td>  </td>\n",
       "        <td>  </td>\n",
       "        <td>  </td>\n",
       "        <td>  </td>\n",
       "        <td> yes </td>\n",
       "    </tr>\n",
       "    <tr>\n",
       "        <th> 6 </th>\n",
       "        <td> .fit_statistics['dataset-0'].npred_models.models['model_1'].model.spectral.reference </td>\n",
       "        <td> 1.00 </td>\n",
       "        <td> 0.01 </td>\n",
       "        <td>  </td>\n",
       "        <td>  </td>\n",
       "        <td>  </td>\n",
       "        <td>  </td>\n",
       "        <td> yes </td>\n",
       "    </tr>\n",
       "</table><table>\n",
       "    <tr>\n",
       "        <td></td>\n",
       "        <th> .fit_statistics['dataset-0'].npred_models.models['model_0'].model.amplitude </th>\n",
       "        <th> .fit_statistics['dataset-0'].npred_models.models['model_0'].model.spectral.index </th>\n",
       "        <th> .fit_statistics['dataset-0'].npred_models.models['model_0'].model.spectral.reference </th>\n",
       "        <th> .fit_statistics['dataset-0'].npred_models.models['model_0'].model.spatial.x_0 </th>\n",
       "        <th> .fit_statistics['dataset-0'].npred_models.models['model_0'].model.spatial.y_0 </th>\n",
       "        <th> .fit_statistics['dataset-0'].npred_models.models['model_1'].model.spectral.index </th>\n",
       "        <th> .fit_statistics['dataset-0'].npred_models.models['model_1'].model.spectral.reference </th>\n",
       "    </tr>\n",
       "    <tr>\n",
       "        <th> .fit_statistics['dataset-0'].npred_models.models['model_0'].model.amplitude </th>\n",
       "        <td> 1.54e-05 </td>\n",
       "        <td style=\"background-color:rgb(200,200,250);color:black\"> -3e-6 <strong>(-0.384)</strong> </td>\n",
       "        <td style=\"background-color:rgb(250,250,250);color:black\"> 0 </td>\n",
       "        <td style=\"background-color:rgb(250,250,250);color:black\"> 0 </td>\n",
       "        <td style=\"background-color:rgb(250,250,250);color:black\"> -0 </td>\n",
       "        <td style=\"background-color:rgb(250,250,250);color:black\"> 0 </td>\n",
       "        <td style=\"background-color:rgb(250,250,250);color:black\"> 0 </td>\n",
       "    </tr>\n",
       "    <tr>\n",
       "        <th> .fit_statistics['dataset-0'].npred_models.models['model_0'].model.spectral.index </th>\n",
       "        <td style=\"background-color:rgb(200,200,250);color:black\"> -3e-6 <strong>(-0.384)</strong> </td>\n",
       "        <td> 4.9e-06 </td>\n",
       "        <td style=\"background-color:rgb(250,250,250);color:black\"> 0e-6 </td>\n",
       "        <td style=\"background-color:rgb(250,250,250);color:black\"> 0e-6 </td>\n",
       "        <td style=\"background-color:rgb(250,250,250);color:black\"> 0e-6 </td>\n",
       "        <td style=\"background-color:rgb(250,250,250);color:black\"> 0e-6 </td>\n",
       "        <td style=\"background-color:rgb(250,250,250);color:black\"> 0e-6 </td>\n",
       "    </tr>\n",
       "    <tr>\n",
       "        <th> .fit_statistics['dataset-0'].npred_models.models['model_0'].model.spectral.reference </th>\n",
       "        <td style=\"background-color:rgb(250,250,250);color:black\"> 0 </td>\n",
       "        <td style=\"background-color:rgb(250,250,250);color:black\"> 0e-6 </td>\n",
       "        <td> 0 </td>\n",
       "        <td style=\"background-color:rgb(250,250,250);color:black\"> 0 </td>\n",
       "        <td style=\"background-color:rgb(250,250,250);color:black\"> 0 </td>\n",
       "        <td style=\"background-color:rgb(250,250,250);color:black\"> 0 </td>\n",
       "        <td style=\"background-color:rgb(250,250,250);color:black\"> 0 </td>\n",
       "    </tr>\n",
       "    <tr>\n",
       "        <th> .fit_statistics['dataset-0'].npred_models.models['model_0'].model.spatial.x_0 </th>\n",
       "        <td style=\"background-color:rgb(250,250,250);color:black\"> 0 </td>\n",
       "        <td style=\"background-color:rgb(250,250,250);color:black\"> 0e-6 </td>\n",
       "        <td style=\"background-color:rgb(250,250,250);color:black\"> 0 </td>\n",
       "        <td> 0.000215 </td>\n",
       "        <td style=\"background-color:rgb(250,250,250);color:black\"> 0 </td>\n",
       "        <td style=\"background-color:rgb(250,250,250);color:black\"> 0 </td>\n",
       "        <td style=\"background-color:rgb(250,250,250);color:black\"> 0 </td>\n",
       "    </tr>\n",
       "    <tr>\n",
       "        <th> .fit_statistics['dataset-0'].npred_models.models['model_0'].model.spatial.y_0 </th>\n",
       "        <td style=\"background-color:rgb(250,250,250);color:black\"> -0 </td>\n",
       "        <td style=\"background-color:rgb(250,250,250);color:black\"> 0e-6 </td>\n",
       "        <td style=\"background-color:rgb(250,250,250);color:black\"> 0 </td>\n",
       "        <td style=\"background-color:rgb(250,250,250);color:black\"> 0 </td>\n",
       "        <td> 0.000219 </td>\n",
       "        <td style=\"background-color:rgb(250,250,250);color:black\"> 0 </td>\n",
       "        <td style=\"background-color:rgb(250,250,250);color:black\"> 0 </td>\n",
       "    </tr>\n",
       "    <tr>\n",
       "        <th> .fit_statistics['dataset-0'].npred_models.models['model_1'].model.spectral.index </th>\n",
       "        <td style=\"background-color:rgb(250,250,250);color:black\"> 0 </td>\n",
       "        <td style=\"background-color:rgb(250,250,250);color:black\"> 0e-6 </td>\n",
       "        <td style=\"background-color:rgb(250,250,250);color:black\"> 0 </td>\n",
       "        <td style=\"background-color:rgb(250,250,250);color:black\"> 0 </td>\n",
       "        <td style=\"background-color:rgb(250,250,250);color:black\"> 0 </td>\n",
       "        <td> 0 </td>\n",
       "        <td style=\"background-color:rgb(250,250,250);color:black\"> 0 </td>\n",
       "    </tr>\n",
       "    <tr>\n",
       "        <th> .fit_statistics['dataset-0'].npred_models.models['model_1'].model.spectral.reference </th>\n",
       "        <td style=\"background-color:rgb(250,250,250);color:black\"> 0 </td>\n",
       "        <td style=\"background-color:rgb(250,250,250);color:black\"> 0e-6 </td>\n",
       "        <td style=\"background-color:rgb(250,250,250);color:black\"> 0 </td>\n",
       "        <td style=\"background-color:rgb(250,250,250);color:black\"> 0 </td>\n",
       "        <td style=\"background-color:rgb(250,250,250);color:black\"> 0 </td>\n",
       "        <td style=\"background-color:rgb(250,250,250);color:black\"> 0 </td>\n",
       "        <td> 0 </td>\n",
       "    </tr>\n",
       "</table>"
      ],
      "text/plain": [
       "┌─────────────────────────────────────────────────────────────────────────┐\n",
       "│                                Migrad                                   │\n",
       "├──────────────────────────────────┬──────────────────────────────────────┤\n",
       "│ FCN = 1.223e+07                  │         Nfcn = 76, Ngrad = 3         │\n",
       "│ EDM = 4.71e-05 (Goal: 0.0002)    │           time = 93.7 sec            │\n",
       "├──────────────────────────────────┼──────────────────────────────────────┤\n",
       "│          Valid Minimum           │   Below EDM threshold (goal x 10)    │\n",
       "├──────────────────────────────────┼──────────────────────────────────────┤\n",
       "│      No parameters at limit      │           Below call limit           │\n",
       "├──────────────────────────────────┼──────────────────────────────────────┤\n",
       "│             Hesse ok             │         Covariance accurate          │\n",
       "└──────────────────────────────────┴──────────────────────────────────────┘\n",
       "┌───┬──────────────────────────────────────────────────────────────────────────────────────┬───────────┬───────────┬────────────┬────────────┬─────────┬─────────┬───────┐\n",
       "│   │ Name                                                                                 │   Value   │ Hesse Err │ Minos Err- │ Minos Err+ │ Limit-  │ Limit+  │ Fixed │\n",
       "├───┼──────────────────────────────────────────────────────────────────────────────────────┼───────────┼───────────┼────────────┼────────────┼─────────┼─────────┼───────┤\n",
       "│ 0 │ .fit_statistics['dataset-0'].npred_models.models['model_0'].model.amplitude          │   1.004   │   0.004   │            │            │         │         │       │\n",
       "│ 1 │ .fit_statistics['dataset-0'].npred_models.models['model_0'].model.spectral.index     │  1.9994   │  0.0022   │            │            │         │         │       │\n",
       "│ 2 │ .fit_statistics['dataset-0'].npred_models.models['model_0'].model.spectral.reference │   1.00    │   0.01    │            │            │         │         │  yes  │\n",
       "│ 3 │ .fit_statistics['dataset-0'].npred_models.models['model_0'].model.spatial.x_0        │  499.494  │   0.015   │            │            │         │         │       │\n",
       "│ 4 │ .fit_statistics['dataset-0'].npred_models.models['model_0'].model.spatial.y_0        │  499.515  │   0.015   │            │            │         │         │       │\n",
       "│ 5 │ .fit_statistics['dataset-0'].npred_models.models['model_1'].model.spectral.index     │    0.0    │    0.1    │            │            │         │         │  yes  │\n",
       "│ 6 │ .fit_statistics['dataset-0'].npred_models.models['model_1'].model.spectral.reference │   1.00    │   0.01    │            │            │         │         │  yes  │\n",
       "└───┴──────────────────────────────────────────────────────────────────────────────────────┴───────────┴───────────┴────────────┴────────────┴─────────┴─────────┴───────┘\n",
       "┌──────────────────────────────────────────────────────────────────────────────────────┬────────────────────────────────────────────────────────────────────────────────────────────────────────────────────────────────────────────────────────────────────────────────────────────────────────────────────────────────────────────────────────────────────────────────────────────────────────────────────────────────────────────────────────────────────────────────────────────────────────────────────────────────────────────────────────────────────────────────────────────────────────────────────────────────────────────────────────────────────────────────────────────────────────────────────┐\n",
       "│                                                                                      │          .fit_statistics['dataset-0'].npred_models.models['model_0'].model.amplitude     .fit_statistics['dataset-0'].npred_models.models['model_0'].model.spectral.index .fit_statistics['dataset-0'].npred_models.models['model_0'].model.spectral.reference        .fit_statistics['dataset-0'].npred_models.models['model_0'].model.spatial.x_0        .fit_statistics['dataset-0'].npred_models.models['model_0'].model.spatial.y_0     .fit_statistics['dataset-0'].npred_models.models['model_1'].model.spectral.index .fit_statistics['dataset-0'].npred_models.models['model_1'].model.spectral.reference │\n",
       "├──────────────────────────────────────────────────────────────────────────────────────┼────────────────────────────────────────────────────────────────────────────────────────────────────────────────────────────────────────────────────────────────────────────────────────────────────────────────────────────────────────────────────────────────────────────────────────────────────────────────────────────────────────────────────────────────────────────────────────────────────────────────────────────────────────────────────────────────────────────────────────────────────────────────────────────────────────────────────────────────────────────────────────────────────────────────────┤\n",
       "│          .fit_statistics['dataset-0'].npred_models.models['model_0'].model.amplitude │                                                                             1.54e-05                                                                                -3e-6                                                                                    0                                                                                    0                                                                                   -0                                                                                    0                                                                                    0 │\n",
       "│     .fit_statistics['dataset-0'].npred_models.models['model_0'].model.spectral.index │                                                                                -3e-6                                                                              4.9e-06                                                                                 0e-6                                                                                 0e-6                                                                                 0e-6                                                                                 0e-6                                                                                 0e-6 │\n",
       "│ .fit_statistics['dataset-0'].npred_models.models['model_0'].model.spectral.reference │                                                                                    0                                                                                 0e-6                                                                                    0                                                                                    0                                                                                    0                                                                                    0                                                                                    0 │\n",
       "│        .fit_statistics['dataset-0'].npred_models.models['model_0'].model.spatial.x_0 │                                                                                    0                                                                                 0e-6                                                                                    0                                                                             0.000215                                                                                    0                                                                                    0                                                                                    0 │\n",
       "│        .fit_statistics['dataset-0'].npred_models.models['model_0'].model.spatial.y_0 │                                                                                   -0                                                                                 0e-6                                                                                    0                                                                                    0                                                                             0.000219                                                                                    0                                                                                    0 │\n",
       "│     .fit_statistics['dataset-0'].npred_models.models['model_1'].model.spectral.index │                                                                                    0                                                                                 0e-6                                                                                    0                                                                                    0                                                                                    0                                                                                    0                                                                                    0 │\n",
       "│ .fit_statistics['dataset-0'].npred_models.models['model_1'].model.spectral.reference │                                                                                    0                                                                                 0e-6                                                                                    0                                                                                    0                                                                                    0                                                                                    0                                                                                    0 │\n",
       "└──────────────────────────────────────────────────────────────────────────────────────┴────────────────────────────────────────────────────────────────────────────────────────────────────────────────────────────────────────────────────────────────────────────────────────────────────────────────────────────────────────────────────────────────────────────────────────────────────────────────────────────────────────────────────────────────────────────────────────────────────────────────────────────────────────────────────────────────────────────────────────────────────────────────────────────────────────────────────────────────────────────────────────────────────────────────────┘"
      ]
     },
     "execution_count": 23,
     "metadata": {},
     "output_type": "execute_result"
    }
   ],
   "source": [
    "minuit.migrad()"
   ]
  },
  {
   "cell_type": "code",
   "execution_count": 24,
   "metadata": {},
   "outputs": [
    {
     "name": "stderr",
     "output_type": "stream",
     "text": [
      "/Users/adonath/software/mambaforge/envs/jax-intro/lib/python3.11/site-packages/astropy/units/quantity.py:671: RuntimeWarning: divide by zero encountered in divide\n",
      "  result = super().__array_ufunc__(function, method, *arrays, **kwargs)\n",
      "/Users/adonath/software/mambaforge/envs/jax-intro/lib/python3.11/site-packages/astropy/units/quantity.py:671: RuntimeWarning: invalid value encountered in multiply\n",
      "  result = super().__array_ufunc__(function, method, *arrays, **kwargs)\n",
      "/Users/adonath/software/mambaforge/envs/jax-intro/lib/python3.11/site-packages/astropy/units/quantity.py:671: RuntimeWarning: divide by zero encountered in divide\n",
      "  result = super().__array_ufunc__(function, method, *arrays, **kwargs)\n",
      "/Users/adonath/software/mambaforge/envs/jax-intro/lib/python3.11/site-packages/astropy/units/quantity.py:671: RuntimeWarning: invalid value encountered in multiply\n",
      "  result = super().__array_ufunc__(function, method, *arrays, **kwargs)\n",
      "/Users/adonath/software/mambaforge/envs/jax-intro/lib/python3.11/site-packages/astropy/units/quantity.py:671: RuntimeWarning: divide by zero encountered in divide\n",
      "  result = super().__array_ufunc__(function, method, *arrays, **kwargs)\n",
      "/Users/adonath/software/mambaforge/envs/jax-intro/lib/python3.11/site-packages/astropy/units/quantity.py:671: RuntimeWarning: invalid value encountered in multiply\n",
      "  result = super().__array_ufunc__(function, method, *arrays, **kwargs)\n",
      "/Users/adonath/software/mambaforge/envs/jax-intro/lib/python3.11/site-packages/astropy/units/quantity.py:671: RuntimeWarning: divide by zero encountered in divide\n",
      "  result = super().__array_ufunc__(function, method, *arrays, **kwargs)\n",
      "/Users/adonath/software/mambaforge/envs/jax-intro/lib/python3.11/site-packages/astropy/units/quantity.py:671: RuntimeWarning: invalid value encountered in multiply\n",
      "  result = super().__array_ufunc__(function, method, *arrays, **kwargs)\n",
      "/Users/adonath/software/mambaforge/envs/jax-intro/lib/python3.11/site-packages/astropy/units/quantity.py:671: RuntimeWarning: divide by zero encountered in divide\n",
      "  result = super().__array_ufunc__(function, method, *arrays, **kwargs)\n",
      "/Users/adonath/software/mambaforge/envs/jax-intro/lib/python3.11/site-packages/astropy/units/quantity.py:671: RuntimeWarning: invalid value encountered in multiply\n",
      "  result = super().__array_ufunc__(function, method, *arrays, **kwargs)\n"
     ]
    }
   ],
   "source": [
    "fit = Fit()\n",
    "result = fit.run(datasets)"
   ]
  },
  {
   "cell_type": "code",
   "execution_count": 30,
   "metadata": {},
   "outputs": [
    {
     "data": {
      "text/html": [
       "<table>\n",
       "    <tr>\n",
       "        <th colspan=\"2\" style=\"text-align:center\" title=\"Minimizer\"> Migrad </th>\n",
       "    </tr>\n",
       "    <tr>\n",
       "        <td style=\"text-align:left\" title=\"Minimum value of function\"> FCN = 1.223e+07 </td>\n",
       "        <td style=\"text-align:center\" title=\"Total number of function and (optional) gradient evaluations\"> Nfcn = 122 </td>\n",
       "    </tr>\n",
       "    <tr>\n",
       "        <td style=\"text-align:left\" title=\"Estimated distance to minimum and goal\"> EDM = 0.000308 (Goal: 0.0002) </td>\n",
       "        <td style=\"text-align:center\" title=\"Total run time of algorithms\"> time = 568.7 sec </td>\n",
       "    </tr>\n",
       "    <tr>\n",
       "        <td style=\"text-align:center;background-color:#92CCA6;color:black\"> Valid Minimum </td>\n",
       "        <td style=\"text-align:center;background-color:#92CCA6;color:black\"> Below EDM threshold (goal x 10) </td>\n",
       "    </tr>\n",
       "    <tr>\n",
       "        <td style=\"text-align:center;background-color:#92CCA6;color:black\"> No parameters at limit </td>\n",
       "        <td style=\"text-align:center;background-color:#92CCA6;color:black\"> Below call limit </td>\n",
       "    </tr>\n",
       "    <tr>\n",
       "        <td style=\"text-align:center;background-color:#92CCA6;color:black\"> Hesse ok </td>\n",
       "        <td style=\"text-align:center;background-color:#92CCA6;color:black\"> Covariance accurate </td>\n",
       "    </tr>\n",
       "</table><table>\n",
       "    <tr>\n",
       "        <td></td>\n",
       "        <th title=\"Variable name\"> Name </th>\n",
       "        <th title=\"Value of parameter\"> Value </th>\n",
       "        <th title=\"Hesse error\"> Hesse Error </th>\n",
       "        <th title=\"Minos lower error\"> Minos Error- </th>\n",
       "        <th title=\"Minos upper error\"> Minos Error+ </th>\n",
       "        <th title=\"Lower limit of the parameter\"> Limit- </th>\n",
       "        <th title=\"Upper limit of the parameter\"> Limit+ </th>\n",
       "        <th title=\"Is the parameter fixed in the fit\"> Fixed </th>\n",
       "    </tr>\n",
       "    <tr>\n",
       "        <th> 0 </th>\n",
       "        <td> par_000_index </td>\n",
       "        <td> 1.9992 </td>\n",
       "        <td> 0.0022 </td>\n",
       "        <td>  </td>\n",
       "        <td>  </td>\n",
       "        <td>  </td>\n",
       "        <td>  </td>\n",
       "        <td>  </td>\n",
       "    </tr>\n",
       "    <tr>\n",
       "        <th> 1 </th>\n",
       "        <td> par_001_amplitude </td>\n",
       "        <td> 1.004 </td>\n",
       "        <td> 0.004 </td>\n",
       "        <td>  </td>\n",
       "        <td>  </td>\n",
       "        <td>  </td>\n",
       "        <td>  </td>\n",
       "        <td>  </td>\n",
       "    </tr>\n",
       "    <tr>\n",
       "        <th> 2 </th>\n",
       "        <td> par_002_lon_0 </td>\n",
       "        <td> 0.16e-3 </td>\n",
       "        <td> 0.15e-3 </td>\n",
       "        <td>  </td>\n",
       "        <td>  </td>\n",
       "        <td>  </td>\n",
       "        <td>  </td>\n",
       "        <td>  </td>\n",
       "    </tr>\n",
       "    <tr>\n",
       "        <th> 3 </th>\n",
       "        <td> par_003_lat_0 </td>\n",
       "        <td> 0.02e-3 </td>\n",
       "        <td> 0.15e-3 </td>\n",
       "        <td>  </td>\n",
       "        <td>  </td>\n",
       "        <td> -90 </td>\n",
       "        <td> 90 </td>\n",
       "        <td>  </td>\n",
       "    </tr>\n",
       "</table><table>\n",
       "    <tr>\n",
       "        <td></td>\n",
       "        <th> par_000_index </th>\n",
       "        <th> par_001_amplitude </th>\n",
       "        <th> par_002_lon_0 </th>\n",
       "        <th> par_003_lat_0 </th>\n",
       "    </tr>\n",
       "    <tr>\n",
       "        <th> par_000_index </th>\n",
       "        <td> 4.89e-06 </td>\n",
       "        <td style=\"background-color:rgb(200,200,250);color:black\"> -3e-6 <strong>(-0.384)</strong> </td>\n",
       "        <td style=\"background-color:rgb(250,250,250);color:black\"> -0 </td>\n",
       "        <td style=\"background-color:rgb(250,250,250);color:black\"> 0 </td>\n",
       "    </tr>\n",
       "    <tr>\n",
       "        <th> par_001_amplitude </th>\n",
       "        <td style=\"background-color:rgb(200,200,250);color:black\"> -3e-6 <strong>(-0.384)</strong> </td>\n",
       "        <td> 1.54e-05 </td>\n",
       "        <td style=\"background-color:rgb(250,250,250);color:black\"> -0 </td>\n",
       "        <td style=\"background-color:rgb(250,250,250);color:black\"> 0 </td>\n",
       "    </tr>\n",
       "    <tr>\n",
       "        <th> par_002_lon_0 </th>\n",
       "        <td style=\"background-color:rgb(250,250,250);color:black\"> -0 </td>\n",
       "        <td style=\"background-color:rgb(250,250,250);color:black\"> -0 </td>\n",
       "        <td> 2.17e-08 </td>\n",
       "        <td style=\"background-color:rgb(250,249,249);color:black\"> 0 <strong>(0.007)</strong> </td>\n",
       "    </tr>\n",
       "    <tr>\n",
       "        <th> par_003_lat_0 </th>\n",
       "        <td style=\"background-color:rgb(250,250,250);color:black\"> 0 </td>\n",
       "        <td style=\"background-color:rgb(250,250,250);color:black\"> 0 </td>\n",
       "        <td style=\"background-color:rgb(250,249,249);color:black\"> 0 <strong>(0.007)</strong> </td>\n",
       "        <td> 2.16e-08 </td>\n",
       "    </tr>\n",
       "</table>"
      ],
      "text/plain": [
       "┌─────────────────────────────────────────────────────────────────────────┐\n",
       "│                                Migrad                                   │\n",
       "├──────────────────────────────────┬──────────────────────────────────────┤\n",
       "│ FCN = 1.223e+07                  │              Nfcn = 122              │\n",
       "│ EDM = 0.000308 (Goal: 0.0002)    │           time = 568.7 sec           │\n",
       "├──────────────────────────────────┼──────────────────────────────────────┤\n",
       "│          Valid Minimum           │   Below EDM threshold (goal x 10)    │\n",
       "├──────────────────────────────────┼──────────────────────────────────────┤\n",
       "│      No parameters at limit      │           Below call limit           │\n",
       "├──────────────────────────────────┼──────────────────────────────────────┤\n",
       "│             Hesse ok             │         Covariance accurate          │\n",
       "└──────────────────────────────────┴──────────────────────────────────────┘\n",
       "┌───┬───────────────────┬───────────┬───────────┬────────────┬────────────┬─────────┬─────────┬───────┐\n",
       "│   │ Name              │   Value   │ Hesse Err │ Minos Err- │ Minos Err+ │ Limit-  │ Limit+  │ Fixed │\n",
       "├───┼───────────────────┼───────────┼───────────┼────────────┼────────────┼─────────┼─────────┼───────┤\n",
       "│ 0 │ par_000_index     │  1.9992   │  0.0022   │            │            │         │         │       │\n",
       "│ 1 │ par_001_amplitude │   1.004   │   0.004   │            │            │         │         │       │\n",
       "│ 2 │ par_002_lon_0     │  0.16e-3  │  0.15e-3  │            │            │         │         │       │\n",
       "│ 3 │ par_003_lat_0     │  0.02e-3  │  0.15e-3  │            │            │   -90   │   90    │       │\n",
       "└───┴───────────────────┴───────────┴───────────┴────────────┴────────────┴─────────┴─────────┴───────┘\n",
       "┌───────────────────┬─────────────────────────────────────────────────────────────────────────┐\n",
       "│                   │     par_000_index par_001_amplitude     par_002_lon_0     par_003_lat_0 │\n",
       "├───────────────────┼─────────────────────────────────────────────────────────────────────────┤\n",
       "│     par_000_index │          4.89e-06             -3e-6                -0                 0 │\n",
       "│ par_001_amplitude │             -3e-6          1.54e-05                -0                 0 │\n",
       "│     par_002_lon_0 │                -0                -0          2.17e-08                 0 │\n",
       "│     par_003_lat_0 │                 0                 0                 0          2.16e-08 │\n",
       "└───────────────────┴─────────────────────────────────────────────────────────────────────────┘"
      ]
     },
     "execution_count": 30,
     "metadata": {},
     "output_type": "execute_result"
    }
   ],
   "source": [
    "result.minuit"
   ]
  }
 ],
 "metadata": {
  "kernelspec": {
   "display_name": "jax-intro",
   "language": "python",
   "name": "python3"
  },
  "language_info": {
   "codemirror_mode": {
    "name": "ipython",
    "version": 3
   },
   "file_extension": ".py",
   "mimetype": "text/x-python",
   "name": "python",
   "nbconvert_exporter": "python",
   "pygments_lexer": "ipython3",
   "version": "3.1.undefined"
  }
 },
 "nbformat": 4,
 "nbformat_minor": 2
}
